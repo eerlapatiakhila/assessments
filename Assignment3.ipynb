{
 "cells": [
  {
   "cell_type": "code",
   "execution_count": 7,
   "id": "3a52effa-6e9d-41f1-9561-2b42d6a61f23",
   "metadata": {},
   "outputs": [],
   "source": [
    "##Create a tuple named my_tuple containing at least five different elements (mix of integers, strings, and a float).\n",
    "my_tuple = (42, \"apple\", 3.14, \"hello\", 7)\n"
   ]
  },
  {
   "cell_type": "code",
   "execution_count": 9,
   "id": "826f4cef-ca03-4710-a33e-f5fe65d5ef53",
   "metadata": {},
   "outputs": [
    {
     "name": "stdout",
     "output_type": "stream",
     "text": [
      "(42, 'apple', 3.14, 'hello', 7)\n"
     ]
    }
   ],
   "source": [
    "#Print the tuple.\n",
    "print(my_tuple)"
   ]
  },
  {
   "cell_type": "code",
   "execution_count": 11,
   "id": "aa0344c3-43c8-4a98-a60c-2ae7e3c59e31",
   "metadata": {},
   "outputs": [
    {
     "name": "stdout",
     "output_type": "stream",
     "text": [
      "42\n",
      "apple\n",
      "3.14\n"
     ]
    }
   ],
   "source": [
    "#Accessing Elements\n",
    "print(my_tuple[0])  # Output: 42\n",
    "print(my_tuple[1])  # Output: \"apple\"\n",
    "print(my_tuple[2])  # Output: 3.14\n"
   ]
  },
  {
   "cell_type": "code",
   "execution_count": 17,
   "id": "88c41e9a-5a60-4fee-ae0c-3abe1ab5fbe5",
   "metadata": {},
   "outputs": [
    {
     "name": "stdout",
     "output_type": "stream",
     "text": [
      "First element: 42\n",
      "Last element: 7\n"
     ]
    }
   ],
   "source": [
    "# First element\n",
    "print(\"First element:\", my_tuple[0])\n",
    "# Last element\n",
    "print(\"Last element:\", my_tuple[-1])\n"
   ]
  },
  {
   "cell_type": "code",
   "execution_count": 15,
   "id": "7bce2e3c-d5d7-4c61-8745-4c6d196a4301",
   "metadata": {},
   "outputs": [
    {
     "name": "stdout",
     "output_type": "stream",
     "text": [
      "Second last element: hello\n"
     ]
    }
   ],
   "source": [
    "# Second last element\n",
    "print(\"Second last element:\", my_tuple[-2])"
   ]
  },
  {
   "cell_type": "code",
   "execution_count": 19,
   "id": "c4e628b7-3da6-4ee5-af72-b0fe4033f091",
   "metadata": {},
   "outputs": [
    {
     "name": "stdout",
     "output_type": "stream",
     "text": [
      "First three elements: (42, 'apple', 3.14)\n"
     ]
    }
   ],
   "source": [
    "# Slice the first three elements\n",
    "print(\"First three elements:\", my_tuple[0:3])\n"
   ]
  },
  {
   "cell_type": "code",
   "execution_count": 21,
   "id": "5e41fdbf-7da5-43b1-81bc-80935758e7ef",
   "metadata": {},
   "outputs": [
    {
     "name": "stdout",
     "output_type": "stream",
     "text": [
      "Last two elements: ('hello', 7)\n"
     ]
    }
   ],
   "source": [
    "# Slice the last two elements\n",
    "print(\"Last two elements:\", my_tuple[-2:])\n"
   ]
  },
  {
   "cell_type": "code",
   "execution_count": 23,
   "id": "4de80c14-2742-4c86-9a48-3337555b6974",
   "metadata": {},
   "outputs": [
    {
     "name": "stdout",
     "output_type": "stream",
     "text": [
      "Concatenated tuple: (42, 'apple', 3.14, 'hello', 7, 'banana', 99)\n"
     ]
    }
   ],
   "source": [
    "another_tuple = (\"banana\", 99)\n",
    "# Concatenate the tuples\n",
    "combined_tuple = my_tuple + another_tuple\n",
    "print(\"Concatenated tuple:\", combined_tuple)\n"
   ]
  },
  {
   "cell_type": "code",
   "execution_count": 25,
   "id": "7522a259-062c-4bf0-a179-791c11bf578f",
   "metadata": {},
   "outputs": [
    {
     "name": "stdout",
     "output_type": "stream",
     "text": [
      "Repeated tuple: (42, 'apple', 3.14, 'hello', 7, 42, 'apple', 3.14, 'hello', 7)\n"
     ]
    }
   ],
   "source": [
    "# Repeat the tuple twice\n",
    "repeated_tuple = my_tuple * 2\n",
    "print(\"Repeated tuple:\", repeated_tuple)\n"
   ]
  },
  {
   "cell_type": "code",
   "execution_count": 27,
   "id": "e7686373-64ca-4f7e-9133-d0ebd82f7bdb",
   "metadata": {},
   "outputs": [
    {
     "name": "stdout",
     "output_type": "stream",
     "text": [
      "Index of 'apple': 1\n"
     ]
    }
   ],
   "source": [
    "# Find index of \"apple\"\n",
    "index_of_apple = my_tuple.index(\"apple\")\n",
    "print(\"Index of 'apple':\", index_of_apple)\n"
   ]
  },
  {
   "cell_type": "code",
   "execution_count": 29,
   "id": "88f34598-1c45-4c3e-b61e-2b7348f823bd",
   "metadata": {},
   "outputs": [
    {
     "name": "stdout",
     "output_type": "stream",
     "text": [
      "Occurrences of 42: 1\n"
     ]
    }
   ],
   "source": [
    "# Count occurrences of 42\n",
    "count_42 = my_tuple.count(42)\n",
    "print(\"Occurrences of 42:\", count_42)\n"
   ]
  },
  {
   "cell_type": "code",
   "execution_count": 31,
   "id": "df24b705-2632-4c86-a1b1-1e054d7904f7",
   "metadata": {},
   "outputs": [
    {
     "ename": "TypeError",
     "evalue": "'tuple' object does not support item assignment",
     "output_type": "error",
     "traceback": [
      "\u001b[1;31m---------------------------------------------------------------------------\u001b[0m",
      "\u001b[1;31mTypeError\u001b[0m                                 Traceback (most recent call last)",
      "Cell \u001b[1;32mIn[31], line 2\u001b[0m\n\u001b[0;32m      1\u001b[0m \u001b[38;5;66;03m# Try changing the first element\u001b[39;00m\n\u001b[1;32m----> 2\u001b[0m my_tuple[\u001b[38;5;241m0\u001b[39m] \u001b[38;5;241m=\u001b[39m \u001b[38;5;241m100\u001b[39m\n",
      "\u001b[1;31mTypeError\u001b[0m: 'tuple' object does not support item assignment"
     ]
    }
   ],
   "source": [
    "# Try changing the first element\n",
    "my_tuple[0] = 100\n"
   ]
  },
  {
   "cell_type": "code",
   "execution_count": 33,
   "id": "84393b80-9039-414e-8801-136f335bfeb0",
   "metadata": {},
   "outputs": [],
   "source": [
    "#Tuples are immutable, which means you cannot change, add, or remove elements once a tuple is created. Any attempt to modify it directly like this will raise a TypeError."
   ]
  },
  {
   "cell_type": "code",
   "execution_count": 35,
   "id": "65954fd2-77b0-4bf8-8e40-fd1579b44bd3",
   "metadata": {},
   "outputs": [
    {
     "name": "stdout",
     "output_type": "stream",
     "text": [
      "Name: Akhila\n",
      "Age: 25\n",
      "Profession: Engineer\n"
     ]
    }
   ],
   "source": [
    "# Tuple packing\n",
    "my_tuple = (\"Akhila\", 25, \"Engineer\")\n",
    "\n",
    "# Tuple unpacking\n",
    "name, age, profession = my_tuple\n",
    "\n",
    "# Print the individual variables\n",
    "print(\"Name:\", name)\n",
    "print(\"Age:\", age)\n",
    "print(\"Profession:\", profession)\n"
   ]
  },
  {
   "cell_type": "code",
   "execution_count": 37,
   "id": "0317450d-33d8-4072-a6f3-6ddcbc7719cd",
   "metadata": {},
   "outputs": [
    {
     "name": "stdout",
     "output_type": "stream",
     "text": [
      "Akhila\n",
      "25\n",
      "Engineer\n"
     ]
    }
   ],
   "source": [
    "# Iterate through the tuple and print each element\n",
    "for element in my_tuple:\n",
    "    print(element)"
   ]
  },
  {
   "cell_type": "code",
   "execution_count": 39,
   "id": "ce432cac-589f-477e-8f70-902716ae412d",
   "metadata": {},
   "outputs": [],
   "source": [
    "def get_person_info():\n",
    "    name = \"Alice\"\n",
    "    age = 30\n",
    "    profession = \"Engineer\"\n",
    "    return name, age, profession  # This returns a tuple\n"
   ]
  },
  {
   "cell_type": "code",
   "execution_count": 41,
   "id": "9697c357-2c98-4166-9722-12635099922f",
   "metadata": {},
   "outputs": [
    {
     "name": "stdout",
     "output_type": "stream",
     "text": [
      "Returned tuple: ('Alice', 30, 'Engineer')\n"
     ]
    }
   ],
   "source": [
    "# Call the function and store the returned tuple\n",
    "person_info = get_person_info()\n",
    "\n",
    "# Print the returned tuple\n",
    "print(\"Returned tuple:\", person_info)"
   ]
  },
  {
   "cell_type": "code",
   "execution_count": null,
   "id": "d7317cff-e6b8-45df-bd6c-dc387d8566b0",
   "metadata": {},
   "outputs": [],
   "source": []
  }
 ],
 "metadata": {
  "kernelspec": {
   "display_name": "Python 3 (ipykernel)",
   "language": "python",
   "name": "python3"
  },
  "language_info": {
   "codemirror_mode": {
    "name": "ipython",
    "version": 3
   },
   "file_extension": ".py",
   "mimetype": "text/x-python",
   "name": "python",
   "nbconvert_exporter": "python",
   "pygments_lexer": "ipython3",
   "version": "3.12.4"
  }
 },
 "nbformat": 4,
 "nbformat_minor": 5
}
