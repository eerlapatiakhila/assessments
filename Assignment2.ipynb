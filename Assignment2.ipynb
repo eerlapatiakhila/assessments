{
 "cells": [
  {
   "cell_type": "code",
   "execution_count": 1,
   "id": "b7c2d0dd-b026-4a0c-85aa-a84103a71ca9",
   "metadata": {},
   "outputs": [
    {
     "name": "stdout",
     "output_type": "stream",
     "text": [
      "Hello, World!\n"
     ]
    }
   ],
   "source": [
    "# Assign the string \"Hello, World!\" to a variable and print it\n",
    "greet = \"Hello, World!\"\n",
    "print(greet)\n"
   ]
  },
  {
   "cell_type": "code",
   "execution_count": 3,
   "id": "19efda93-12e0-457d-9e80-b193f60fdf07",
   "metadata": {},
   "outputs": [
    {
     "name": "stdout",
     "output_type": "stream",
     "text": [
      "Pytho\n"
     ]
    }
   ],
   "source": [
    "# Create a string \"Python Programming\" and extract the first five characters using slicing\n",
    "language = \"Python Programming\"\n",
    "first_five = language[:5]\n",
    "print(first_five)\n"
   ]
  },
  {
   "cell_type": "code",
   "execution_count": 5,
   "id": "579fde21-5deb-4a91-a32d-9a646c7783dd",
   "metadata": {},
   "outputs": [
    {
     "name": "stdout",
     "output_type": "stream",
     "text": [
      "PYTHON IS FUN\n"
     ]
    }
   ],
   "source": [
    "# Given a string \"python is fun\", convert it to uppercase\n",
    "text = \"python is fun\"\n",
    "uppercase_text = text.upper()\n",
    "print(uppercase_text)"
   ]
  },
  {
   "cell_type": "code",
   "execution_count": 7,
   "id": "09afde2b-f441-48f2-9c74-912c84408e2f",
   "metadata": {},
   "outputs": [
    {
     "name": "stdout",
     "output_type": "stream",
     "text": [
      "Python is awesome\n"
     ]
    }
   ],
   "source": [
    "# Replace \"fun\" with \"awesome\" in the string \"Python is fun\"\n",
    "original = \"Python is fun\"\n",
    "replaced = original.replace(\"fun\", \"awesome\")\n",
    "print(replaced)"
   ]
  },
  {
   "cell_type": "code",
   "execution_count": 9,
   "id": "9916577c-13fe-42b8-b3d6-de3e9d1fadc0",
   "metadata": {},
   "outputs": [
    {
     "name": "stdout",
     "output_type": "stream",
     "text": [
      "My name is John, and I am 25 years old.\n"
     ]
    }
   ],
   "source": [
    "# Use f-string formatting to create a message with variables\n",
    "name = \"John\"\n",
    "age = 25\n",
    "message = f\"My name is {name}, and I am {age} years old.\"\n",
    "print(message)"
   ]
  },
  {
   "cell_type": "code",
   "execution_count": 11,
   "id": "9f5068ea-eefe-45ff-aee2-0e8f44f73d90",
   "metadata": {},
   "outputs": [
    {
     "name": "stdout",
     "output_type": "stream",
     "text": [
      "49.99\n"
     ]
    }
   ],
   "source": [
    "# Given a price of 49.99, format it to display only two decimal places\n",
    "price = 49.99\n",
    "formatted_price = f\"{price:.2f}\"\n",
    "print(formatted_price)"
   ]
  },
  {
   "cell_type": "code",
   "execution_count": 13,
   "id": "4d6420ed-74f2-4a75-b955-2790ce53710b",
   "metadata": {},
   "outputs": [
    {
     "name": "stdout",
     "output_type": "stream",
     "text": [
      "3\n"
     ]
    }
   ],
   "source": [
    "# Count the occurrences of the letter 'o' in \"Hello, how are you?\"\n",
    "sentence = \"Hello, how are you?\"\n",
    "count = sentence.count('o')\n",
    "print(count)\n"
   ]
  },
  {
   "cell_type": "code",
   "execution_count": 15,
   "id": "1ad96d9d-f43d-44de-82cb-673fbe6733f8",
   "metadata": {},
   "outputs": [
    {
     "name": "stdout",
     "output_type": "stream",
     "text": [
      "7\n"
     ]
    }
   ],
   "source": [
    "# Find the position of \"world\" in \"Hello, world! Python is amazing.\"\n",
    "sentence = \"Hello, world! Python is amazing.\"\n",
    "position = sentence.find(\"world\")\n",
    "print(position)\n"
   ]
  },
  {
   "cell_type": "code",
   "execution_count": 17,
   "id": "779761a8-fdbf-4405-8e4e-ca39e3f2616d",
   "metadata": {},
   "outputs": [
    {
     "name": "stdout",
     "output_type": "stream",
     "text": [
      "nohtyP\n"
     ]
    }
   ],
   "source": [
    "# Reverse the string \"Python\" using slicing\n",
    "word = \"Python\"\n",
    "reversed_word = word[::-1]\n",
    "print(reversed_word)\n"
   ]
  },
  {
   "cell_type": "code",
   "execution_count": 19,
   "id": "a42791ea-e86e-4ab4-b740-495d052d6c68",
   "metadata": {},
   "outputs": [
    {
     "name": "stdout",
     "output_type": "stream",
     "text": [
      "True\n"
     ]
    }
   ],
   "source": [
    "\n",
    "# Check if \"madam\" is a palindrome\n",
    "palindrome_candidate = \"madam\"\n",
    "is_palindrome = palindrome_candidate == palindrome_candidate[::-1]\n",
    "print(is_palindrome)"
   ]
  },
  {
   "cell_type": "code",
   "execution_count": null,
   "id": "8e232936-9431-4969-a264-e7a06e1095f6",
   "metadata": {},
   "outputs": [],
   "source": []
  }
 ],
 "metadata": {
  "kernelspec": {
   "display_name": "Python 3 (ipykernel)",
   "language": "python",
   "name": "python3"
  },
  "language_info": {
   "codemirror_mode": {
    "name": "ipython",
    "version": 3
   },
   "file_extension": ".py",
   "mimetype": "text/x-python",
   "name": "python",
   "nbconvert_exporter": "python",
   "pygments_lexer": "ipython3",
   "version": "3.12.4"
  }
 },
 "nbformat": 4,
 "nbformat_minor": 5
}
